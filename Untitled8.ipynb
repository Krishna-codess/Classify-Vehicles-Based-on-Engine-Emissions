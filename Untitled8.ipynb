{
  "nbformat": 4,
  "nbformat_minor": 0,
  "metadata": {
    "colab": {
      "provenance": []
    },
    "kernelspec": {
      "name": "python3",
      "display_name": "Python 3"
    },
    "language_info": {
      "name": "python"
    }
  },
  "cells": [
    {
      "cell_type": "code",
      "execution_count": 13,
      "metadata": {
        "colab": {
          "base_uri": "https://localhost:8080/"
        },
        "id": "y2OCN3uppVzx",
        "outputId": "e0bfe061-9d2a-4cd9-f3b5-f3b93ed28c59"
      },
      "outputs": [
        {
          "output_type": "stream",
          "name": "stdout",
          "text": [
            "   engine_size fuel_type  co2_emissions emission_category\n",
            "0     1.887889    petrol     215.413794                 B\n",
            "1     1.924299  electric     234.463942                 C\n",
            "2     3.687571    diesel     180.042027                 A\n",
            "3     1.078842    petrol     156.704264                 A\n",
            "4     1.416434    diesel     269.166344                 A\n",
            "Accuracy: 0.3\n",
            "Classification Report:\n",
            "               precision    recall  f1-score   support\n",
            "\n",
            "           0       0.20      0.20      0.20         5\n",
            "           1       0.14      0.17      0.15         6\n",
            "           2       0.50      0.44      0.47         9\n",
            "\n",
            "    accuracy                           0.30        20\n",
            "   macro avg       0.28      0.27      0.27        20\n",
            "weighted avg       0.32      0.30      0.31        20\n",
            "\n",
            "Predicted Emission Category: B\n"
          ]
        },
        {
          "output_type": "stream",
          "name": "stderr",
          "text": [
            "/usr/local/lib/python3.11/dist-packages/sklearn/utils/validation.py:2739: UserWarning: X does not have valid feature names, but StandardScaler was fitted with feature names\n",
            "  warnings.warn(\n"
          ]
        }
      ],
      "source": [
        "\n",
        "import pandas as pd\n",
        "import numpy as np\n",
        "from sklearn.model_selection import train_test_split\n",
        "from sklearn.preprocessing import LabelEncoder, StandardScaler\n",
        "from sklearn.ensemble import RandomForestClassifier\n",
        "from sklearn.metrics import classification_report, accuracy_score\n",
        "\n",
        "# Example dataset - Replace with your actual data\n",
        "df = pd.read_csv('vehicle_emissions.csv')\n",
        "\n",
        "# Display the first few rows\n",
        "print(df.head())\n",
        "\n",
        "# Encode categorical fuel type\n",
        "le = LabelEncoder()\n",
        "df['Fuel_Type_Encoded'] = le.fit_transform(df['fuel_type'])\n",
        "\n",
        "# Select features and target\n",
        "X = df[['engine_size','co2_emissions' ,'Fuel_Type_Encoded']]\n",
        "y = df['emission_category']\n",
        "\n",
        "# Encode target if it's categorical\n",
        "y_encoded = LabelEncoder().fit_transform(y)\n",
        "\n",
        "# Split the dataset\n",
        "X_train, X_test, y_train, y_test = train_test_split(X, y_encoded, test_size=0.2, random_state=42)\n",
        "\n",
        "# Feature scaling\n",
        "scaler = StandardScaler()\n",
        "X_train = scaler.fit_transform(X_train)\n",
        "X_test = scaler.transform(X_test)\n",
        "\n",
        "model = RandomForestClassifier(n_estimators=100, random_state=42)\n",
        "model.fit(X_train, y_train)\n",
        "y_pred = model.predict(X_test)\n",
        "\n",
        "print(\"Accuracy:\", accuracy_score(y_test, y_pred))\n",
        "print(\"Classification Report:\\n\", classification_report(y_test, y_pred))\n",
        "\n",
        "\n",
        "# Example input: [Engine Size, Cylinders, Fuel Consumption, Encoded Fuel Type]\n",
        "sample_vehicle = np.array([[2.0, 215, le.transform(['petrol'])[0]]])\n",
        "sample_vehicle_scaled = scaler.transform(sample_vehicle)\n",
        "\n",
        "predicted_class = model.predict(sample_vehicle_scaled)\n",
        "predicted_emission_standard = LabelEncoder().fit(y).inverse_transform(predicted_class)\n",
        "\n",
        "print(\"Predicted Emission Category:\", predicted_emission_standard[0])\n",
        "\n"
      ]
    },
    {
      "cell_type": "code",
      "source": [
        "import pandas as pd\n",
        "import numpy as np\n",
        "from sklearn.model_selection import train_test_split\n",
        "from sklearn.preprocessing import LabelEncoder, StandardScaler\n",
        "from sklearn.ensemble import RandomForestClassifier\n",
        "from sklearn.metrics import classification_report, accuracy_score\n",
        "\n",
        "# Load the dataset - Replace 'vehicle_emissions.csv' with your actual file\n",
        "df = pd.read_csv('vehicle_emissions.csv')\n",
        "\n",
        "# Display the first few rows to check the structure of the dataset\n",
        "print(df.head())\n",
        "\n",
        "# Encode the categorical 'fuel_type' column into numeric values\n",
        "le_fuel = LabelEncoder()\n",
        "df['Fuel_Type_Encoded'] = le_fuel.fit_transform(df['fuel_type'])\n",
        "\n",
        "# Select relevant features (engine size, CO2 emissions, and encoded fuel type)\n",
        "X = df[['engine_size', 'co2_emissions', 'Fuel_Type_Encoded']]\n",
        "y = df['emission_category']  # Target variable\n",
        "\n",
        "# Encode target variable 'emission_category' if it's categorical\n",
        "le_target = LabelEncoder()\n",
        "y_encoded = le_target.fit_transform(y)\n",
        "\n",
        "# Split the dataset into training and testing sets (80% train, 20% test)\n",
        "X_train, X_test, y_train, y_test = train_test_split(X, y_encoded, test_size=0.2, random_state=42)\n",
        "\n",
        "# Feature scaling (Standardize the feature values)\n",
        "scaler = StandardScaler()\n",
        "X_train = scaler.fit_transform(X_train)\n",
        "X_test = scaler.transform(X_test)\n",
        "\n",
        "# Initialize and train the model (Random Forest Classifier)\n",
        "model = RandomForestClassifier(n_estimators=100, random_state=42)\n",
        "model.fit(X_train, y_train)\n",
        "\n",
        "# Predict on the test set\n",
        "y_pred = model.predict(X_test)\n",
        "\n",
        "# Evaluate the model\n",
        "print(\"Accuracy:\", accuracy_score(y_test, y_pred))\n",
        "print(\"Classification Report:\\n\", classification_report(y_test, y_pred))\n",
        "\n",
        "# Example input: [Engine Size, CO2 Emissions, Encoded Fuel Type]\n",
        "sample_vehicle = pd.DataFrame([[2.0, 215.4137938, le_fuel.transform(['petrol'])[0]]],\n",
        "                              columns=['engine_size', 'co2_emissions', 'Fuel_Type_Encoded'])\n",
        "\n",
        "# Scale the features of the sample vehicle (apply same scaler as the training set)\n",
        "sample_vehicle_scaled = scaler.transform(sample_vehicle)\n",
        "\n",
        "# Predict the emission category for this sample\n",
        "predicted_class = model.predict(sample_vehicle_scaled)\n",
        "\n",
        "# Convert the numerical prediction back to the emission category (A, B, C)\n",
        "predicted_emission_standard = le_target.inverse_transform(predicted_class)\n",
        "\n",
        "print(\"Predicted Emission Category for sample vehicle:\", predicted_emission_standard[0])\n"
      ],
      "metadata": {
        "colab": {
          "base_uri": "https://localhost:8080/"
        },
        "id": "dZuxHp1du5e1",
        "outputId": "04a88379-a7ff-48eb-d2d6-fdc537e4d28a"
      },
      "execution_count": 15,
      "outputs": [
        {
          "output_type": "stream",
          "name": "stdout",
          "text": [
            "   engine_size fuel_type  co2_emissions emission_category\n",
            "0     1.887889    petrol     215.413794                 B\n",
            "1     1.924299  electric     234.463942                 C\n",
            "2     3.687571    diesel     180.042027                 A\n",
            "3     1.078842    petrol     156.704264                 A\n",
            "4     1.416434    diesel     269.166344                 A\n",
            "Accuracy: 0.3\n",
            "Classification Report:\n",
            "               precision    recall  f1-score   support\n",
            "\n",
            "           0       0.20      0.20      0.20         5\n",
            "           1       0.14      0.17      0.15         6\n",
            "           2       0.50      0.44      0.47         9\n",
            "\n",
            "    accuracy                           0.30        20\n",
            "   macro avg       0.28      0.27      0.27        20\n",
            "weighted avg       0.32      0.30      0.31        20\n",
            "\n",
            "Predicted Emission Category for sample vehicle: B\n"
          ]
        }
      ]
    }
  ]
}